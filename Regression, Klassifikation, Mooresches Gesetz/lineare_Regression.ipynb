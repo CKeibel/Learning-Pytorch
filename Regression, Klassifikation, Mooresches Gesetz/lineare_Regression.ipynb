{
  "nbformat": 4,
  "nbformat_minor": 0,
  "metadata": {
    "colab": {
      "name": "lineare_Regression.ipynb",
      "provenance": [],
      "collapsed_sections": []
    },
    "kernelspec": {
      "name": "python3",
      "display_name": "Python 3"
    },
    "accelerator": "GPU"
  },
  "cells": [
    {
      "cell_type": "markdown",
      "metadata": {
        "id": "uPrsSzjmPFx6"
      },
      "source": [
        "\n",
        "\n",
        "# Linerare Regression\n"
      ]
    },
    {
      "cell_type": "code",
      "metadata": {
        "id": "O0Zwu5hDPLXs"
      },
      "source": [
        "import torch\n",
        "import torch.nn as nn\n",
        "import numpy as np\n",
        "import matplotlib.pyplot as plt"
      ],
      "execution_count": 1,
      "outputs": []
    },
    {
      "cell_type": "markdown",
      "metadata": {
        "id": "8iBGFCKQPr9A"
      },
      "source": [
        "## Datensatz erstellen\n",
        "Datensatz mit N vielen Datenpunkten erstellen\n",
        "\n",
        "```np.random.random(N)``` erstellt N viele zufällige Zahlen zwischen 0 und 1\n",
        "\n",
        "\n"
      ]
    },
    {
      "cell_type": "code",
      "metadata": {
        "id": "ukUfG-5sPx9d"
      },
      "source": [
        "N = 20\n",
        "\n",
        "# zufällige Daten auf der x-Achse im Bereich (-5, +5)\n",
        "X = np.random.random(N)*10 - 5\n",
        "\n",
        "# Gerade mit etwas Rauschen \n",
        "Y = 0.5 * X - 1 + np.random.randn(N)"
      ],
      "execution_count": 2,
      "outputs": []
    },
    {
      "cell_type": "markdown",
      "metadata": {
        "id": "zWMsD-qLRWQJ"
      },
      "source": [
        "Visualisierung des Datensatzes"
      ]
    },
    {
      "cell_type": "code",
      "metadata": {
        "id": "L1YtJMxqRfGL",
        "outputId": "5019bc5c-cf5f-402a-ce50-dbebcde9f536",
        "colab": {
          "base_uri": "https://localhost:8080/",
          "height": 282
        }
      },
      "source": [
        "plt.scatter(X,Y)"
      ],
      "execution_count": 3,
      "outputs": [
        {
          "output_type": "execute_result",
          "data": {
            "text/plain": [
              "<matplotlib.collections.PathCollection at 0x7fa0f530deb8>"
            ]
          },
          "metadata": {
            "tags": []
          },
          "execution_count": 3
        },
        {
          "output_type": "display_data",
          "data": {
            "image/png": "[encoded data removed]",
            "text/plain": [
              "<Figure size 432x288 with 1 Axes>"
            ]
          },
          "metadata": {
            "tags": [],
            "needs_background": "light"
          }
        }
      ]
    },
    {
      "cell_type": "markdown",
      "metadata": {
        "id": "EIS1sXUuSqhD"
      },
      "source": [
        "## Preprocessing: Datensatz in richtige Form bringen\n",
        "\n",
        " Die notewendige Form ist eine Matrix der Form *(Anzahl_der_Datenpunkte x Anzahl_der_Dimensionen)*\n",
        "\n",
        " Die Daten befinden sich im Numpy-Typ float64. Pytorch nutzt float32, daher muss der Datentyp entsprechend konvertiert werden"
      ]
    },
    {
      "cell_type": "code",
      "metadata": {
        "id": "XXWQYlG3TjJJ"
      },
      "source": [
        "# Daten in richtiges Format bringen\n",
        "X = X.reshape(N, 1)\n",
        "Y = Y.reshape(N, 1)\n",
        "\n",
        "# Daten in den richtigen Datentypen konvertieren\n",
        "inputs = torch.from_numpy(X.astype(np.float32))\n",
        "targets = torch.from_numpy(Y.astype(np.float32))"
      ],
      "execution_count": 4,
      "outputs": []
    },
    {
      "cell_type": "markdown",
      "metadata": {
        "id": "ESR3by83Xe3J"
      },
      "source": [
        "## Definieren des Modells\n",
        "\n",
        "\n",
        "*   Modell\n",
        "*   Fehlerfunktion (Lossfunction)\n",
        "*   Optimizer\n",
        "\n"
      ]
    },
    {
      "cell_type": "code",
      "metadata": {
        "id": "0V4EG4HhXjUN"
      },
      "source": [
        "# Modell für lineare Regression\n",
        "model = nn.Linear(1, 1)\n",
        "\n",
        "# Fehlerfunktion \n",
        "criterion = nn.MSELoss()\n",
        "\n",
        "# Optimizer\n",
        "optimizer = torch.optim.SGD(model.parameters(), lr=0.1)\n"
      ],
      "execution_count": 5,
      "outputs": []
    },
    {
      "cell_type": "markdown",
      "metadata": {
        "id": "VxdeiO_CYoYL"
      },
      "source": [
        "## Trainieren des Modells\n",
        "\n",
        "\n",
        "* ```n_epochs``` Anzahl der Epochen des Trainings\n",
        "* ```losses = []``` Eine Liste, die die Werte der Fehlerfunktion speichert. Diese Werte werden im nachhinein geplottet, damit der Traininsprozess nachvollzogen werden kann.\n",
        "* ```optimizer.zero_grad()``` Die Gradienten müssen zu Beginn jeden Durchlaufs auf 0 gesetzt werden, da Pytorch die Gradienten \"anhäuft\". Das Anhäufen ist wichtig bei RNNs \n",
        "\n",
        "\n",
        "\n"
      ]
    },
    {
      "cell_type": "code",
      "metadata": {
        "id": "LU1q2QVQaHcM",
        "outputId": "14d58e15-5200-4a7b-866a-09f010a5d410",
        "colab": {
          "base_uri": "https://localhost:8080/"
        }
      },
      "source": [
        "n_epochs = 30\n",
        "losses = []\n",
        "\n",
        "for it in range(n_epochs):\n",
        "  # Gradienten auf 0 setzen\n",
        "  optimizer.zero_grad()\n",
        "\n",
        "  # Forward pass\n",
        "  outputs = model(inputs)\n",
        "  \n",
        "  # Zwischenspeichern des Fehlers (Vorhersage, wahre Werte)\n",
        "  loss = criterion(outputs, targets)\n",
        "\n",
        "  # Speichern des Fehlers in der Liste \"losses\"\n",
        "  losses.append(loss.item())\n",
        "\n",
        "  # Backward pass und optimieren\n",
        "  loss.backward()\n",
        "  optimizer.step()\n",
        "\n",
        "  # Ausgabe die Trainingsschritte veranschaulicht\n",
        "  print(f'Epoch {it+1}/{n_epochs}, Loss: {loss.item(): .4f}')"
      ],
      "execution_count": 8,
      "outputs": [
        {
          "output_type": "stream",
          "text": [
            "Epoch 1/30, Loss:  1.2583\n",
            "Epoch 2/30, Loss:  0.8855\n",
            "Epoch 3/30, Loss:  0.8784\n",
            "Epoch 4/30, Loss:  0.8768\n",
            "Epoch 5/30, Loss:  0.8758\n",
            "Epoch 6/30, Loss:  0.8752\n",
            "Epoch 7/30, Loss:  0.8747\n",
            "Epoch 8/30, Loss:  0.8744\n",
            "Epoch 9/30, Loss:  0.8742\n",
            "Epoch 10/30, Loss:  0.8741\n",
            "Epoch 11/30, Loss:  0.8740\n",
            "Epoch 12/30, Loss:  0.8740\n",
            "Epoch 13/30, Loss:  0.8740\n",
            "Epoch 14/30, Loss:  0.8739\n",
            "Epoch 15/30, Loss:  0.8739\n",
            "Epoch 16/30, Loss:  0.8739\n",
            "Epoch 17/30, Loss:  0.8739\n",
            "Epoch 18/30, Loss:  0.8739\n",
            "Epoch 19/30, Loss:  0.8739\n",
            "Epoch 20/30, Loss:  0.8739\n",
            "Epoch 21/30, Loss:  0.8739\n",
            "Epoch 22/30, Loss:  0.8739\n",
            "Epoch 23/30, Loss:  0.8739\n",
            "Epoch 24/30, Loss:  0.8739\n",
            "Epoch 25/30, Loss:  0.8739\n",
            "Epoch 26/30, Loss:  0.8739\n",
            "Epoch 27/30, Loss:  0.8739\n",
            "Epoch 28/30, Loss:  0.8739\n",
            "Epoch 29/30, Loss:  0.8739\n",
            "Epoch 30/30, Loss:  0.8739\n"
          ],
          "name": "stdout"
        }
      ]
    },
    {
      "cell_type": "markdown",
      "metadata": {
        "id": "vz0wes71dHfX"
      },
      "source": [
        "Plotten des Fehler während des Trainings"
      ]
    },
    {
      "cell_type": "code",
      "metadata": {
        "id": "IoyyZbn7dMjb",
        "outputId": "f048b1dc-68dc-4bf4-91df-4305b8ae5db5",
        "colab": {
          "base_uri": "https://localhost:8080/",
          "height": 282
        }
      },
      "source": [
        "plt.plot(losses)"
      ],
      "execution_count": 9,
      "outputs": [
        {
          "output_type": "execute_result",
          "data": {
            "text/plain": [
              "[<matplotlib.lines.Line2D at 0x7fa0ec6c77f0>]"
            ]
          },
          "metadata": {
            "tags": []
          },
          "execution_count": 9
        },
        {
          "output_type": "display_data",
          "data": {
            "image/png": "[encoded data removed]",
            "text/plain": [
              "<Figure size 432x288 with 1 Axes>"
            ]
          },
          "metadata": {
            "tags": [],
            "needs_background": "light"
          }
        }
      ]
    },
    {
      "cell_type": "markdown",
      "metadata": {
        "id": "zwImzo1PdfTz"
      },
      "source": [
        "## Plotten der Vorhersage\n",
        "\n",
        "```predicted``` gibt die Vorhersage des Modells an\n",
        "\n"
      ]
    },
    {
      "cell_type": "code",
      "metadata": {
        "id": "oonF9vXnd2Nb",
        "outputId": "75338e55-c257-47f0-b1f6-4ad5b668225d",
        "colab": {
          "base_uri": "https://localhost:8080/",
          "height": 265
        }
      },
      "source": [
        "predicted = model(inputs).detach().numpy()\n",
        "plt.scatter(X, Y, label='Originale Daten')\n",
        "plt.plot(X, predicted, label=\"Vorhersage\", color=\"red\")\n",
        "plt.legend()\n",
        "plt.show()"
      ],
      "execution_count": 10,
      "outputs": [
        {
          "output_type": "display_data",
          "data": {
            "image/png": "[encoded data removed]",
            "text/plain": [
              "<Figure size 432x288 with 1 Axes>"
            ]
          },
          "metadata": {
            "tags": [],
            "needs_background": "light"
          }
        }
      ]
    },
    {
      "cell_type": "markdown",
      "metadata": {
        "id": "vJ-9i4irfvoj"
      },
      "source": [
        "Anzeigen der Modellparameter nach dem Training. (Parameter der Geraden)\n",
        "-> Die originalen Datensatzparameter für die Gerade waren **w = 0.5** und -1. (Festgelegt beim erstellen des Datensatzes)"
      ]
    },
    {
      "cell_type": "code",
      "metadata": {
        "id": "UYX6-CUugMnY",
        "outputId": "1378ad01-a1d9-48bd-ebac-c14e89441b09",
        "colab": {
          "base_uri": "https://localhost:8080/"
        }
      },
      "source": [
        "# Gewichte und Bias\n",
        "w = model.weight.data.numpy()\n",
        "b = model.bias.data.numpy()\n",
        "print(w,b)"
      ],
      "execution_count": 11,
      "outputs": [
        {
          "output_type": "stream",
          "text": [
            "[[0.42927215]] [-0.7146484]\n"
          ],
          "name": "stdout"
        }
      ]
    }
  ]
}